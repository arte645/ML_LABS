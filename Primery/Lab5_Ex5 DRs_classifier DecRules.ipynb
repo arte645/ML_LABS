{
  "cells": [
    {
      "cell_type": "markdown",
      "id": "9f6042e3",
      "metadata": {
        "papermill": {
          "duration": 0.059073,
          "end_time": "2021-10-19T18:46:41.447638",
          "exception": false,
          "start_time": "2021-10-19T18:46:41.388565",
          "status": "completed"
        },
        "tags": [],
        "id": "9f6042e3"
      },
      "source": [
        "# DecisionTreeClassifier"
      ]
    },
    {
      "cell_type": "code",
      "execution_count": 1,
      "id": "4257f1de",
      "metadata": {
        "execution": {
          "iopub.execute_input": "2021-10-19T18:46:41.579883Z",
          "iopub.status.busy": "2021-10-19T18:46:41.574892Z",
          "iopub.status.idle": "2021-10-19T18:46:43.066589Z",
          "shell.execute_reply": "2021-10-19T18:46:43.065113Z",
          "shell.execute_reply.started": "2021-10-19T18:44:35.312508Z"
        },
        "papermill": {
          "duration": 1.560414,
          "end_time": "2021-10-19T18:46:43.066795",
          "exception": false,
          "start_time": "2021-10-19T18:46:41.506381",
          "status": "completed"
        },
        "tags": [],
        "id": "4257f1de"
      },
      "outputs": [],
      "source": [
        "import warnings\n",
        "import joblib\n",
        "import numpy as np\n",
        "import pandas as pd\n",
        "import seaborn as sns\n",
        "from matplotlib import pyplot as plt\n",
        "from sklearn.tree import DecisionTreeClassifier, export_graphviz, export_text\n",
        "from sklearn.metrics import classification_report, roc_auc_score\n",
        "from sklearn.model_selection import train_test_split, GridSearchCV, cross_validate, validation_curve"
      ]
    },
    {
      "cell_type": "code",
      "execution_count": 2,
      "id": "477e23ad",
      "metadata": {
        "execution": {
          "iopub.execute_input": "2021-10-19T18:46:43.192484Z",
          "iopub.status.busy": "2021-10-19T18:46:43.191693Z",
          "iopub.status.idle": "2021-10-19T18:46:43.213119Z",
          "shell.execute_reply": "2021-10-19T18:46:43.213777Z",
          "shell.execute_reply.started": "2021-10-19T18:44:37.140509Z"
        },
        "papermill": {
          "duration": 0.087706,
          "end_time": "2021-10-19T18:46:43.213979",
          "exception": false,
          "start_time": "2021-10-19T18:46:43.126273",
          "status": "completed"
        },
        "tags": [],
        "id": "477e23ad"
      },
      "outputs": [],
      "source": [
        "df = pd.read_csv(\"diabetes.csv\")"
      ]
    },
    {
      "cell_type": "code",
      "execution_count": 3,
      "id": "5c0103cb",
      "metadata": {
        "execution": {
          "iopub.execute_input": "2021-10-19T18:46:43.336727Z",
          "iopub.status.busy": "2021-10-19T18:46:43.335936Z",
          "iopub.status.idle": "2021-10-19T18:46:43.358367Z",
          "shell.execute_reply": "2021-10-19T18:46:43.357790Z",
          "shell.execute_reply.started": "2021-10-19T18:44:37.163292Z"
        },
        "papermill": {
          "duration": 0.083873,
          "end_time": "2021-10-19T18:46:43.358569",
          "exception": false,
          "start_time": "2021-10-19T18:46:43.274696",
          "status": "completed"
        },
        "tags": [],
        "colab": {
          "base_uri": "https://localhost:8080/",
          "height": 206
        },
        "id": "5c0103cb",
        "outputId": "05d09fb3-f7ff-492c-c644-9c7e2cf43318"
      },
      "outputs": [
        {
          "output_type": "execute_result",
          "data": {
            "text/plain": [
              "   Pregnancies  Glucose  BloodPressure  SkinThickness  Insulin   BMI  \\\n",
              "0            6      148             72             35        0  33.6   \n",
              "1            1       85             66             29        0  26.6   \n",
              "2            8      183             64              0        0  23.3   \n",
              "3            1       89             66             23       94  28.1   \n",
              "4            0      137             40             35      168  43.1   \n",
              "\n",
              "   DiabetesPedigreeFunction  Age  Outcome  \n",
              "0                     0.627   50        1  \n",
              "1                     0.351   31        0  \n",
              "2                     0.672   32        1  \n",
              "3                     0.167   21        0  \n",
              "4                     2.288   33        1  "
            ],
            "text/html": [
              "\n",
              "  <div id=\"df-0c5c0b18-b0d7-4791-84fa-13e8ffdffb2f\" class=\"colab-df-container\">\n",
              "    <div>\n",
              "<style scoped>\n",
              "    .dataframe tbody tr th:only-of-type {\n",
              "        vertical-align: middle;\n",
              "    }\n",
              "\n",
              "    .dataframe tbody tr th {\n",
              "        vertical-align: top;\n",
              "    }\n",
              "\n",
              "    .dataframe thead th {\n",
              "        text-align: right;\n",
              "    }\n",
              "</style>\n",
              "<table border=\"1\" class=\"dataframe\">\n",
              "  <thead>\n",
              "    <tr style=\"text-align: right;\">\n",
              "      <th></th>\n",
              "      <th>Pregnancies</th>\n",
              "      <th>Glucose</th>\n",
              "      <th>BloodPressure</th>\n",
              "      <th>SkinThickness</th>\n",
              "      <th>Insulin</th>\n",
              "      <th>BMI</th>\n",
              "      <th>DiabetesPedigreeFunction</th>\n",
              "      <th>Age</th>\n",
              "      <th>Outcome</th>\n",
              "    </tr>\n",
              "  </thead>\n",
              "  <tbody>\n",
              "    <tr>\n",
              "      <th>0</th>\n",
              "      <td>6</td>\n",
              "      <td>148</td>\n",
              "      <td>72</td>\n",
              "      <td>35</td>\n",
              "      <td>0</td>\n",
              "      <td>33.6</td>\n",
              "      <td>0.627</td>\n",
              "      <td>50</td>\n",
              "      <td>1</td>\n",
              "    </tr>\n",
              "    <tr>\n",
              "      <th>1</th>\n",
              "      <td>1</td>\n",
              "      <td>85</td>\n",
              "      <td>66</td>\n",
              "      <td>29</td>\n",
              "      <td>0</td>\n",
              "      <td>26.6</td>\n",
              "      <td>0.351</td>\n",
              "      <td>31</td>\n",
              "      <td>0</td>\n",
              "    </tr>\n",
              "    <tr>\n",
              "      <th>2</th>\n",
              "      <td>8</td>\n",
              "      <td>183</td>\n",
              "      <td>64</td>\n",
              "      <td>0</td>\n",
              "      <td>0</td>\n",
              "      <td>23.3</td>\n",
              "      <td>0.672</td>\n",
              "      <td>32</td>\n",
              "      <td>1</td>\n",
              "    </tr>\n",
              "    <tr>\n",
              "      <th>3</th>\n",
              "      <td>1</td>\n",
              "      <td>89</td>\n",
              "      <td>66</td>\n",
              "      <td>23</td>\n",
              "      <td>94</td>\n",
              "      <td>28.1</td>\n",
              "      <td>0.167</td>\n",
              "      <td>21</td>\n",
              "      <td>0</td>\n",
              "    </tr>\n",
              "    <tr>\n",
              "      <th>4</th>\n",
              "      <td>0</td>\n",
              "      <td>137</td>\n",
              "      <td>40</td>\n",
              "      <td>35</td>\n",
              "      <td>168</td>\n",
              "      <td>43.1</td>\n",
              "      <td>2.288</td>\n",
              "      <td>33</td>\n",
              "      <td>1</td>\n",
              "    </tr>\n",
              "  </tbody>\n",
              "</table>\n",
              "</div>\n",
              "    <div class=\"colab-df-buttons\">\n",
              "\n",
              "  <div class=\"colab-df-container\">\n",
              "    <button class=\"colab-df-convert\" onclick=\"convertToInteractive('df-0c5c0b18-b0d7-4791-84fa-13e8ffdffb2f')\"\n",
              "            title=\"Convert this dataframe to an interactive table.\"\n",
              "            style=\"display:none;\">\n",
              "\n",
              "  <svg xmlns=\"http://www.w3.org/2000/svg\" height=\"24px\" viewBox=\"0 -960 960 960\">\n",
              "    <path d=\"M120-120v-720h720v720H120Zm60-500h600v-160H180v160Zm220 220h160v-160H400v160Zm0 220h160v-160H400v160ZM180-400h160v-160H180v160Zm440 0h160v-160H620v160ZM180-180h160v-160H180v160Zm440 0h160v-160H620v160Z\"/>\n",
              "  </svg>\n",
              "    </button>\n",
              "\n",
              "  <style>\n",
              "    .colab-df-container {\n",
              "      display:flex;\n",
              "      gap: 12px;\n",
              "    }\n",
              "\n",
              "    .colab-df-convert {\n",
              "      background-color: #E8F0FE;\n",
              "      border: none;\n",
              "      border-radius: 50%;\n",
              "      cursor: pointer;\n",
              "      display: none;\n",
              "      fill: #1967D2;\n",
              "      height: 32px;\n",
              "      padding: 0 0 0 0;\n",
              "      width: 32px;\n",
              "    }\n",
              "\n",
              "    .colab-df-convert:hover {\n",
              "      background-color: #E2EBFA;\n",
              "      box-shadow: 0px 1px 2px rgba(60, 64, 67, 0.3), 0px 1px 3px 1px rgba(60, 64, 67, 0.15);\n",
              "      fill: #174EA6;\n",
              "    }\n",
              "\n",
              "    .colab-df-buttons div {\n",
              "      margin-bottom: 4px;\n",
              "    }\n",
              "\n",
              "    [theme=dark] .colab-df-convert {\n",
              "      background-color: #3B4455;\n",
              "      fill: #D2E3FC;\n",
              "    }\n",
              "\n",
              "    [theme=dark] .colab-df-convert:hover {\n",
              "      background-color: #434B5C;\n",
              "      box-shadow: 0px 1px 3px 1px rgba(0, 0, 0, 0.15);\n",
              "      filter: drop-shadow(0px 1px 2px rgba(0, 0, 0, 0.3));\n",
              "      fill: #FFFFFF;\n",
              "    }\n",
              "  </style>\n",
              "\n",
              "    <script>\n",
              "      const buttonEl =\n",
              "        document.querySelector('#df-0c5c0b18-b0d7-4791-84fa-13e8ffdffb2f button.colab-df-convert');\n",
              "      buttonEl.style.display =\n",
              "        google.colab.kernel.accessAllowed ? 'block' : 'none';\n",
              "\n",
              "      async function convertToInteractive(key) {\n",
              "        const element = document.querySelector('#df-0c5c0b18-b0d7-4791-84fa-13e8ffdffb2f');\n",
              "        const dataTable =\n",
              "          await google.colab.kernel.invokeFunction('convertToInteractive',\n",
              "                                                    [key], {});\n",
              "        if (!dataTable) return;\n",
              "\n",
              "        const docLinkHtml = 'Like what you see? Visit the ' +\n",
              "          '<a target=\"_blank\" href=https://colab.research.google.com/notebooks/data_table.ipynb>data table notebook</a>'\n",
              "          + ' to learn more about interactive tables.';\n",
              "        element.innerHTML = '';\n",
              "        dataTable['output_type'] = 'display_data';\n",
              "        await google.colab.output.renderOutput(dataTable, element);\n",
              "        const docLink = document.createElement('div');\n",
              "        docLink.innerHTML = docLinkHtml;\n",
              "        element.appendChild(docLink);\n",
              "      }\n",
              "    </script>\n",
              "  </div>\n",
              "\n",
              "\n",
              "<div id=\"df-39dd3bca-c255-4e43-8379-99b53d1893de\">\n",
              "  <button class=\"colab-df-quickchart\" onclick=\"quickchart('df-39dd3bca-c255-4e43-8379-99b53d1893de')\"\n",
              "            title=\"Suggest charts.\"\n",
              "            style=\"display:none;\">\n",
              "\n",
              "<svg xmlns=\"http://www.w3.org/2000/svg\" height=\"24px\"viewBox=\"0 0 24 24\"\n",
              "     width=\"24px\">\n",
              "    <g>\n",
              "        <path d=\"M19 3H5c-1.1 0-2 .9-2 2v14c0 1.1.9 2 2 2h14c1.1 0 2-.9 2-2V5c0-1.1-.9-2-2-2zM9 17H7v-7h2v7zm4 0h-2V7h2v10zm4 0h-2v-4h2v4z\"/>\n",
              "    </g>\n",
              "</svg>\n",
              "  </button>\n",
              "\n",
              "<style>\n",
              "  .colab-df-quickchart {\n",
              "      --bg-color: #E8F0FE;\n",
              "      --fill-color: #1967D2;\n",
              "      --hover-bg-color: #E2EBFA;\n",
              "      --hover-fill-color: #174EA6;\n",
              "      --disabled-fill-color: #AAA;\n",
              "      --disabled-bg-color: #DDD;\n",
              "  }\n",
              "\n",
              "  [theme=dark] .colab-df-quickchart {\n",
              "      --bg-color: #3B4455;\n",
              "      --fill-color: #D2E3FC;\n",
              "      --hover-bg-color: #434B5C;\n",
              "      --hover-fill-color: #FFFFFF;\n",
              "      --disabled-bg-color: #3B4455;\n",
              "      --disabled-fill-color: #666;\n",
              "  }\n",
              "\n",
              "  .colab-df-quickchart {\n",
              "    background-color: var(--bg-color);\n",
              "    border: none;\n",
              "    border-radius: 50%;\n",
              "    cursor: pointer;\n",
              "    display: none;\n",
              "    fill: var(--fill-color);\n",
              "    height: 32px;\n",
              "    padding: 0;\n",
              "    width: 32px;\n",
              "  }\n",
              "\n",
              "  .colab-df-quickchart:hover {\n",
              "    background-color: var(--hover-bg-color);\n",
              "    box-shadow: 0 1px 2px rgba(60, 64, 67, 0.3), 0 1px 3px 1px rgba(60, 64, 67, 0.15);\n",
              "    fill: var(--button-hover-fill-color);\n",
              "  }\n",
              "\n",
              "  .colab-df-quickchart-complete:disabled,\n",
              "  .colab-df-quickchart-complete:disabled:hover {\n",
              "    background-color: var(--disabled-bg-color);\n",
              "    fill: var(--disabled-fill-color);\n",
              "    box-shadow: none;\n",
              "  }\n",
              "\n",
              "  .colab-df-spinner {\n",
              "    border: 2px solid var(--fill-color);\n",
              "    border-color: transparent;\n",
              "    border-bottom-color: var(--fill-color);\n",
              "    animation:\n",
              "      spin 1s steps(1) infinite;\n",
              "  }\n",
              "\n",
              "  @keyframes spin {\n",
              "    0% {\n",
              "      border-color: transparent;\n",
              "      border-bottom-color: var(--fill-color);\n",
              "      border-left-color: var(--fill-color);\n",
              "    }\n",
              "    20% {\n",
              "      border-color: transparent;\n",
              "      border-left-color: var(--fill-color);\n",
              "      border-top-color: var(--fill-color);\n",
              "    }\n",
              "    30% {\n",
              "      border-color: transparent;\n",
              "      border-left-color: var(--fill-color);\n",
              "      border-top-color: var(--fill-color);\n",
              "      border-right-color: var(--fill-color);\n",
              "    }\n",
              "    40% {\n",
              "      border-color: transparent;\n",
              "      border-right-color: var(--fill-color);\n",
              "      border-top-color: var(--fill-color);\n",
              "    }\n",
              "    60% {\n",
              "      border-color: transparent;\n",
              "      border-right-color: var(--fill-color);\n",
              "    }\n",
              "    80% {\n",
              "      border-color: transparent;\n",
              "      border-right-color: var(--fill-color);\n",
              "      border-bottom-color: var(--fill-color);\n",
              "    }\n",
              "    90% {\n",
              "      border-color: transparent;\n",
              "      border-bottom-color: var(--fill-color);\n",
              "    }\n",
              "  }\n",
              "</style>\n",
              "\n",
              "  <script>\n",
              "    async function quickchart(key) {\n",
              "      const quickchartButtonEl =\n",
              "        document.querySelector('#' + key + ' button');\n",
              "      quickchartButtonEl.disabled = true;  // To prevent multiple clicks.\n",
              "      quickchartButtonEl.classList.add('colab-df-spinner');\n",
              "      try {\n",
              "        const charts = await google.colab.kernel.invokeFunction(\n",
              "            'suggestCharts', [key], {});\n",
              "      } catch (error) {\n",
              "        console.error('Error during call to suggestCharts:', error);\n",
              "      }\n",
              "      quickchartButtonEl.classList.remove('colab-df-spinner');\n",
              "      quickchartButtonEl.classList.add('colab-df-quickchart-complete');\n",
              "    }\n",
              "    (() => {\n",
              "      let quickchartButtonEl =\n",
              "        document.querySelector('#df-39dd3bca-c255-4e43-8379-99b53d1893de button');\n",
              "      quickchartButtonEl.style.display =\n",
              "        google.colab.kernel.accessAllowed ? 'block' : 'none';\n",
              "    })();\n",
              "  </script>\n",
              "</div>\n",
              "    </div>\n",
              "  </div>\n"
            ]
          },
          "metadata": {},
          "execution_count": 3
        }
      ],
      "source": [
        "df.head()"
      ]
    },
    {
      "cell_type": "code",
      "execution_count": 4,
      "id": "fee9cba3",
      "metadata": {
        "execution": {
          "iopub.execute_input": "2021-10-19T18:46:43.490892Z",
          "iopub.status.busy": "2021-10-19T18:46:43.490083Z",
          "iopub.status.idle": "2021-10-19T18:46:43.499937Z",
          "shell.execute_reply": "2021-10-19T18:46:43.500595Z",
          "shell.execute_reply.started": "2021-10-19T18:44:37.191236Z"
        },
        "papermill": {
          "duration": 0.082192,
          "end_time": "2021-10-19T18:46:43.500821",
          "exception": false,
          "start_time": "2021-10-19T18:46:43.418629",
          "status": "completed"
        },
        "tags": [],
        "id": "fee9cba3"
      },
      "outputs": [],
      "source": [
        "y = df[\"Outcome\"]\n",
        "X = df.drop([\"Outcome\"], axis=1)"
      ]
    },
    {
      "cell_type": "code",
      "execution_count": 5,
      "id": "8d9b82aa",
      "metadata": {
        "execution": {
          "iopub.execute_input": "2021-10-19T18:46:43.628288Z",
          "iopub.status.busy": "2021-10-19T18:46:43.627397Z",
          "iopub.status.idle": "2021-10-19T18:46:43.634637Z",
          "shell.execute_reply": "2021-10-19T18:46:43.635268Z",
          "shell.execute_reply.started": "2021-10-19T18:44:37.207786Z"
        },
        "papermill": {
          "duration": 0.075738,
          "end_time": "2021-10-19T18:46:43.635467",
          "exception": false,
          "start_time": "2021-10-19T18:46:43.559729",
          "status": "completed"
        },
        "tags": [],
        "id": "8d9b82aa"
      },
      "outputs": [],
      "source": [
        "cart_model = DecisionTreeClassifier(random_state=17).fit(X, y)"
      ]
    },
    {
      "cell_type": "code",
      "execution_count": 6,
      "id": "6150ea59",
      "metadata": {
        "execution": {
          "iopub.execute_input": "2021-10-19T18:46:43.760100Z",
          "iopub.status.busy": "2021-10-19T18:46:43.759325Z",
          "iopub.status.idle": "2021-10-19T18:46:43.764835Z",
          "shell.execute_reply": "2021-10-19T18:46:43.765403Z",
          "shell.execute_reply.started": "2021-10-19T18:44:37.229977Z"
        },
        "papermill": {
          "duration": 0.070184,
          "end_time": "2021-10-19T18:46:43.765590",
          "exception": false,
          "start_time": "2021-10-19T18:46:43.695406",
          "status": "completed"
        },
        "tags": [],
        "id": "6150ea59"
      },
      "outputs": [],
      "source": [
        "y_pred = cart_model.predict(X)"
      ]
    },
    {
      "cell_type": "code",
      "execution_count": 7,
      "id": "a8516767",
      "metadata": {
        "execution": {
          "iopub.execute_input": "2021-10-19T18:46:43.891484Z",
          "iopub.status.busy": "2021-10-19T18:46:43.890772Z",
          "iopub.status.idle": "2021-10-19T18:46:43.893567Z",
          "shell.execute_reply": "2021-10-19T18:46:43.894191Z",
          "shell.execute_reply.started": "2021-10-19T18:44:37.238001Z"
        },
        "papermill": {
          "duration": 0.070157,
          "end_time": "2021-10-19T18:46:43.894387",
          "exception": false,
          "start_time": "2021-10-19T18:46:43.824230",
          "status": "completed"
        },
        "tags": [],
        "id": "a8516767"
      },
      "outputs": [],
      "source": [
        "#y_prob for AUC:\n",
        "y_prob = cart_model.predict_proba(X)[:, 1]"
      ]
    },
    {
      "cell_type": "code",
      "execution_count": 8,
      "id": "fec0d717",
      "metadata": {
        "execution": {
          "iopub.execute_input": "2021-10-19T18:46:44.018614Z",
          "iopub.status.busy": "2021-10-19T18:46:44.017901Z",
          "iopub.status.idle": "2021-10-19T18:46:44.028059Z",
          "shell.execute_reply": "2021-10-19T18:46:44.028946Z",
          "shell.execute_reply.started": "2021-10-19T18:44:37.253475Z"
        },
        "papermill": {
          "duration": 0.075033,
          "end_time": "2021-10-19T18:46:44.029254",
          "exception": false,
          "start_time": "2021-10-19T18:46:43.954221",
          "status": "completed"
        },
        "tags": [],
        "colab": {
          "base_uri": "https://localhost:8080/"
        },
        "id": "fec0d717",
        "outputId": "3dbbd8c9-b9b9-4647-c785-ab64afd34f08"
      },
      "outputs": [
        {
          "output_type": "stream",
          "name": "stdout",
          "text": [
            "              precision    recall  f1-score   support\n",
            "\n",
            "           0       1.00      1.00      1.00       500\n",
            "           1       1.00      1.00      1.00       268\n",
            "\n",
            "    accuracy                           1.00       768\n",
            "   macro avg       1.00      1.00      1.00       768\n",
            "weighted avg       1.00      1.00      1.00       768\n",
            "\n"
          ]
        }
      ],
      "source": [
        "print(classification_report(y, y_pred))"
      ]
    },
    {
      "cell_type": "code",
      "execution_count": 9,
      "id": "3a43dc05",
      "metadata": {
        "execution": {
          "iopub.execute_input": "2021-10-19T18:46:44.152767Z",
          "iopub.status.busy": "2021-10-19T18:46:44.152026Z",
          "iopub.status.idle": "2021-10-19T18:46:44.161698Z",
          "shell.execute_reply": "2021-10-19T18:46:44.162261Z",
          "shell.execute_reply.started": "2021-10-19T18:44:37.272706Z"
        },
        "papermill": {
          "duration": 0.072664,
          "end_time": "2021-10-19T18:46:44.162467",
          "exception": false,
          "start_time": "2021-10-19T18:46:44.089803",
          "status": "completed"
        },
        "tags": [],
        "colab": {
          "base_uri": "https://localhost:8080/"
        },
        "id": "3a43dc05",
        "outputId": "a2c0c745-4421-466b-c4e8-0fd43978aa39"
      },
      "outputs": [
        {
          "output_type": "execute_result",
          "data": {
            "text/plain": [
              "1.0"
            ]
          },
          "metadata": {},
          "execution_count": 9
        }
      ],
      "source": [
        "# AUC\n",
        "roc_auc_score(y, y_prob)"
      ]
    },
    {
      "cell_type": "markdown",
      "source": [
        "# Метод Holdout (удержания)\n",
        "\n",
        "**Метод Holdout** — это самый простой метод оценки классификатора. В этом методе набор данных (набор элементов данных или примеров) разделяется на два набора, называемых обучающим набором и тестовым набором.\n",
        "В методе удержания набор данных секционируется таким образом: максимальное количество данных принадлежит обучающему набору, а оставшиеся данные принадлежат тестовому набору."
      ],
      "metadata": {
        "id": "WyoXlSDvKpaF"
      },
      "id": "WyoXlSDvKpaF"
    },
    {
      "cell_type": "code",
      "execution_count": 10,
      "id": "777aa43d",
      "metadata": {
        "execution": {
          "iopub.execute_input": "2021-10-19T18:46:44.440052Z",
          "iopub.status.busy": "2021-10-19T18:46:44.438937Z",
          "iopub.status.idle": "2021-10-19T18:46:44.447044Z",
          "shell.execute_reply": "2021-10-19T18:46:44.447628Z",
          "shell.execute_reply.started": "2021-10-19T18:44:37.285048Z"
        },
        "papermill": {
          "duration": 0.10467,
          "end_time": "2021-10-19T18:46:44.447841",
          "exception": false,
          "start_time": "2021-10-19T18:46:44.343171",
          "status": "completed"
        },
        "tags": [],
        "id": "777aa43d"
      },
      "outputs": [],
      "source": [
        "X_train, X_test, y_train, y_test = train_test_split(X, y, test_size=0.30, random_state=85)"
      ]
    },
    {
      "cell_type": "code",
      "execution_count": 11,
      "id": "48e76147",
      "metadata": {
        "execution": {
          "iopub.execute_input": "2021-10-19T18:46:44.573022Z",
          "iopub.status.busy": "2021-10-19T18:46:44.571897Z",
          "iopub.status.idle": "2021-10-19T18:46:44.581568Z",
          "shell.execute_reply": "2021-10-19T18:46:44.582272Z",
          "shell.execute_reply.started": "2021-10-19T18:44:37.298251Z"
        },
        "papermill": {
          "duration": 0.074674,
          "end_time": "2021-10-19T18:46:44.582472",
          "exception": false,
          "start_time": "2021-10-19T18:46:44.507798",
          "status": "completed"
        },
        "tags": [],
        "id": "48e76147"
      },
      "outputs": [],
      "source": [
        "cart_model = DecisionTreeClassifier(random_state=17).fit(X_train, y_train)"
      ]
    },
    {
      "cell_type": "code",
      "execution_count": 12,
      "id": "e39c8bb7",
      "metadata": {
        "execution": {
          "iopub.execute_input": "2021-10-19T18:46:44.707897Z",
          "iopub.status.busy": "2021-10-19T18:46:44.706778Z",
          "iopub.status.idle": "2021-10-19T18:46:44.724052Z",
          "shell.execute_reply": "2021-10-19T18:46:44.722693Z",
          "shell.execute_reply.started": "2021-10-19T18:44:37.310920Z"
        },
        "papermill": {
          "duration": 0.081552,
          "end_time": "2021-10-19T18:46:44.724368",
          "exception": false,
          "start_time": "2021-10-19T18:46:44.642816",
          "status": "completed"
        },
        "tags": [],
        "colab": {
          "base_uri": "https://localhost:8080/"
        },
        "id": "e39c8bb7",
        "outputId": "0bced272-9ee3-4909-d13a-13a22533b6cf"
      },
      "outputs": [
        {
          "output_type": "stream",
          "name": "stdout",
          "text": [
            "              precision    recall  f1-score   support\n",
            "\n",
            "           0       1.00      1.00      1.00       349\n",
            "           1       1.00      1.00      1.00       188\n",
            "\n",
            "    accuracy                           1.00       537\n",
            "   macro avg       1.00      1.00      1.00       537\n",
            "weighted avg       1.00      1.00      1.00       537\n",
            "\n"
          ]
        }
      ],
      "source": [
        "# Train Error\n",
        "y_pred = cart_model.predict(X_train)\n",
        "y_prob = cart_model.predict_proba(X_train)[:, 1]\n",
        "print(classification_report(y_train, y_pred))"
      ]
    },
    {
      "cell_type": "code",
      "execution_count": 13,
      "id": "139718ba",
      "metadata": {
        "execution": {
          "iopub.execute_input": "2021-10-19T18:46:44.849832Z",
          "iopub.status.busy": "2021-10-19T18:46:44.849086Z",
          "iopub.status.idle": "2021-10-19T18:46:44.856136Z",
          "shell.execute_reply": "2021-10-19T18:46:44.856766Z",
          "shell.execute_reply.started": "2021-10-19T18:44:37.328917Z"
        },
        "papermill": {
          "duration": 0.071066,
          "end_time": "2021-10-19T18:46:44.856953",
          "exception": false,
          "start_time": "2021-10-19T18:46:44.785887",
          "status": "completed"
        },
        "tags": [],
        "colab": {
          "base_uri": "https://localhost:8080/"
        },
        "id": "139718ba",
        "outputId": "f59bd65c-dae1-404c-a609-a03394f32a99"
      },
      "outputs": [
        {
          "output_type": "execute_result",
          "data": {
            "text/plain": [
              "1.0"
            ]
          },
          "metadata": {},
          "execution_count": 13
        }
      ],
      "source": [
        "roc_auc_score(y_train, y_prob)"
      ]
    },
    {
      "cell_type": "code",
      "execution_count": 14,
      "id": "afef4d96",
      "metadata": {
        "execution": {
          "iopub.execute_input": "2021-10-19T18:46:44.983130Z",
          "iopub.status.busy": "2021-10-19T18:46:44.982406Z",
          "iopub.status.idle": "2021-10-19T18:46:44.997040Z",
          "shell.execute_reply": "2021-10-19T18:46:44.996285Z",
          "shell.execute_reply.started": "2021-10-19T18:44:37.342055Z"
        },
        "papermill": {
          "duration": 0.079127,
          "end_time": "2021-10-19T18:46:44.997197",
          "exception": false,
          "start_time": "2021-10-19T18:46:44.918070",
          "status": "completed"
        },
        "tags": [],
        "colab": {
          "base_uri": "https://localhost:8080/"
        },
        "id": "afef4d96",
        "outputId": "41a6b75a-1f12-4618-e07a-5b03fb3fde92"
      },
      "outputs": [
        {
          "output_type": "stream",
          "name": "stdout",
          "text": [
            "              precision    recall  f1-score   support\n",
            "\n",
            "           0       0.77      0.76      0.76       151\n",
            "           1       0.56      0.56      0.56        80\n",
            "\n",
            "    accuracy                           0.69       231\n",
            "   macro avg       0.66      0.66      0.66       231\n",
            "weighted avg       0.69      0.69      0.69       231\n",
            "\n"
          ]
        }
      ],
      "source": [
        "# Test Error\n",
        "y_pred = cart_model.predict(X_test)\n",
        "y_prob = cart_model.predict_proba(X_test)[:, 1]\n",
        "print(classification_report(y_test, y_pred))"
      ]
    },
    {
      "cell_type": "code",
      "execution_count": 15,
      "id": "6d10c74a",
      "metadata": {
        "execution": {
          "iopub.execute_input": "2021-10-19T18:46:45.121769Z",
          "iopub.status.busy": "2021-10-19T18:46:45.120716Z",
          "iopub.status.idle": "2021-10-19T18:46:45.128606Z",
          "shell.execute_reply": "2021-10-19T18:46:45.129288Z",
          "shell.execute_reply.started": "2021-10-19T18:44:37.357633Z"
        },
        "papermill": {
          "duration": 0.071887,
          "end_time": "2021-10-19T18:46:45.129491",
          "exception": false,
          "start_time": "2021-10-19T18:46:45.057604",
          "status": "completed"
        },
        "tags": [],
        "colab": {
          "base_uri": "https://localhost:8080/"
        },
        "id": "6d10c74a",
        "outputId": "937821dd-7369-48a8-9b66-619b62323981"
      },
      "outputs": [
        {
          "output_type": "execute_result",
          "data": {
            "text/plain": [
              "0.6620447019867549"
            ]
          },
          "metadata": {},
          "execution_count": 15
        }
      ],
      "source": [
        "roc_auc_score(y_test, y_prob)"
      ]
    },
    {
      "cell_type": "markdown",
      "id": "b7cf1714",
      "metadata": {
        "papermill": {
          "duration": 0.061788,
          "end_time": "2021-10-19T18:46:45.254319",
          "exception": false,
          "start_time": "2021-10-19T18:46:45.192531",
          "status": "completed"
        },
        "tags": [],
        "id": "b7cf1714"
      },
      "source": [
        "# Cross Validation"
      ]
    },
    {
      "cell_type": "code",
      "execution_count": 16,
      "id": "f383e86e",
      "metadata": {
        "execution": {
          "iopub.execute_input": "2021-10-19T18:46:45.384532Z",
          "iopub.status.busy": "2021-10-19T18:46:45.383452Z",
          "iopub.status.idle": "2021-10-19T18:46:45.393543Z",
          "shell.execute_reply": "2021-10-19T18:46:45.394174Z",
          "shell.execute_reply.started": "2021-10-19T18:44:37.366536Z"
        },
        "papermill": {
          "duration": 0.077235,
          "end_time": "2021-10-19T18:46:45.394367",
          "exception": false,
          "start_time": "2021-10-19T18:46:45.317132",
          "status": "completed"
        },
        "tags": [],
        "id": "f383e86e"
      },
      "outputs": [],
      "source": [
        "cart_model = DecisionTreeClassifier(random_state=17).fit(X, y)"
      ]
    },
    {
      "cell_type": "code",
      "execution_count": 17,
      "id": "1f8e93ec",
      "metadata": {
        "execution": {
          "iopub.execute_input": "2021-10-19T18:46:45.522805Z",
          "iopub.status.busy": "2021-10-19T18:46:45.521723Z",
          "iopub.status.idle": "2021-10-19T18:46:45.655332Z",
          "shell.execute_reply": "2021-10-19T18:46:45.655914Z",
          "shell.execute_reply.started": "2021-10-19T18:44:37.383395Z"
        },
        "papermill": {
          "duration": 0.199954,
          "end_time": "2021-10-19T18:46:45.656123",
          "exception": false,
          "start_time": "2021-10-19T18:46:45.456169",
          "status": "completed"
        },
        "tags": [],
        "id": "1f8e93ec"
      },
      "outputs": [],
      "source": [
        "cv_results = cross_validate(cart_model,\n",
        "                            X, y,\n",
        "                            cv=10,\n",
        "                            scoring=[\"accuracy\", \"f1\", \"roc_auc\"])"
      ]
    },
    {
      "cell_type": "code",
      "execution_count": 18,
      "id": "67a6272a",
      "metadata": {
        "execution": {
          "iopub.execute_input": "2021-10-19T18:46:45.782253Z",
          "iopub.status.busy": "2021-10-19T18:46:45.781387Z",
          "iopub.status.idle": "2021-10-19T18:46:45.786365Z",
          "shell.execute_reply": "2021-10-19T18:46:45.786940Z",
          "shell.execute_reply.started": "2021-10-19T18:44:37.505879Z"
        },
        "papermill": {
          "duration": 0.070276,
          "end_time": "2021-10-19T18:46:45.787137",
          "exception": false,
          "start_time": "2021-10-19T18:46:45.716861",
          "status": "completed"
        },
        "tags": [],
        "colab": {
          "base_uri": "https://localhost:8080/"
        },
        "id": "67a6272a",
        "outputId": "6011225c-6ab3-4bf7-ad91-f5bb2bd50b13"
      },
      "outputs": [
        {
          "output_type": "execute_result",
          "data": {
            "text/plain": [
              "0.7148496240601504"
            ]
          },
          "metadata": {},
          "execution_count": 18
        }
      ],
      "source": [
        "cv_results['test_accuracy'].mean()"
      ]
    },
    {
      "cell_type": "code",
      "execution_count": 19,
      "id": "f5aa8ed0",
      "metadata": {
        "execution": {
          "iopub.execute_input": "2021-10-19T18:46:45.917540Z",
          "iopub.status.busy": "2021-10-19T18:46:45.916853Z",
          "iopub.status.idle": "2021-10-19T18:46:45.919604Z",
          "shell.execute_reply": "2021-10-19T18:46:45.920171Z",
          "shell.execute_reply.started": "2021-10-19T18:44:37.514035Z"
        },
        "papermill": {
          "duration": 0.071053,
          "end_time": "2021-10-19T18:46:45.920354",
          "exception": false,
          "start_time": "2021-10-19T18:46:45.849301",
          "status": "completed"
        },
        "tags": [],
        "colab": {
          "base_uri": "https://localhost:8080/"
        },
        "id": "f5aa8ed0",
        "outputId": "2f873bff-c315-412e-9da5-d6b4f1e47dfa"
      },
      "outputs": [
        {
          "output_type": "execute_result",
          "data": {
            "text/plain": [
              "0.5780669232692448"
            ]
          },
          "metadata": {},
          "execution_count": 19
        }
      ],
      "source": [
        "cv_results['test_f1'].mean()"
      ]
    },
    {
      "cell_type": "code",
      "execution_count": 20,
      "id": "cdc5ab6f",
      "metadata": {
        "execution": {
          "iopub.execute_input": "2021-10-19T18:46:46.047013Z",
          "iopub.status.busy": "2021-10-19T18:46:46.046296Z",
          "iopub.status.idle": "2021-10-19T18:46:46.051546Z",
          "shell.execute_reply": "2021-10-19T18:46:46.052152Z",
          "shell.execute_reply.started": "2021-10-19T18:44:37.528158Z"
        },
        "papermill": {
          "duration": 0.070432,
          "end_time": "2021-10-19T18:46:46.052354",
          "exception": false,
          "start_time": "2021-10-19T18:46:45.981922",
          "status": "completed"
        },
        "tags": [],
        "colab": {
          "base_uri": "https://localhost:8080/"
        },
        "id": "cdc5ab6f",
        "outputId": "2a1b0e92-94b8-4737-e2e9-a4dc9aaa0821"
      },
      "outputs": [
        {
          "output_type": "execute_result",
          "data": {
            "text/plain": [
              "0.6796239316239316"
            ]
          },
          "metadata": {},
          "execution_count": 20
        }
      ],
      "source": [
        "cv_results['test_roc_auc'].mean()"
      ]
    },
    {
      "cell_type": "markdown",
      "id": "217e913c",
      "metadata": {
        "papermill": {
          "duration": 0.062508,
          "end_time": "2021-10-19T18:46:46.178942",
          "exception": false,
          "start_time": "2021-10-19T18:46:46.116434",
          "status": "completed"
        },
        "tags": [],
        "id": "217e913c"
      },
      "source": [
        "# Оптимизация гиперпараметров с GridSearchCV"
      ]
    },
    {
      "cell_type": "code",
      "execution_count": 21,
      "id": "0d4f3bf0",
      "metadata": {
        "execution": {
          "iopub.execute_input": "2021-10-19T18:46:46.309016Z",
          "iopub.status.busy": "2021-10-19T18:46:46.308284Z",
          "iopub.status.idle": "2021-10-19T18:46:46.313746Z",
          "shell.execute_reply": "2021-10-19T18:46:46.314301Z",
          "shell.execute_reply.started": "2021-10-19T18:44:37.539841Z"
        },
        "papermill": {
          "duration": 0.07202,
          "end_time": "2021-10-19T18:46:46.314481",
          "exception": false,
          "start_time": "2021-10-19T18:46:46.242461",
          "status": "completed"
        },
        "tags": [],
        "colab": {
          "base_uri": "https://localhost:8080/"
        },
        "id": "0d4f3bf0",
        "outputId": "32e7e7fe-e57a-4456-d039-edf88086f88c"
      },
      "outputs": [
        {
          "output_type": "execute_result",
          "data": {
            "text/plain": [
              "{'ccp_alpha': 0.0,\n",
              " 'class_weight': None,\n",
              " 'criterion': 'gini',\n",
              " 'max_depth': None,\n",
              " 'max_features': None,\n",
              " 'max_leaf_nodes': None,\n",
              " 'min_impurity_decrease': 0.0,\n",
              " 'min_samples_leaf': 1,\n",
              " 'min_samples_split': 2,\n",
              " 'min_weight_fraction_leaf': 0.0,\n",
              " 'random_state': 17,\n",
              " 'splitter': 'best'}"
            ]
          },
          "metadata": {},
          "execution_count": 21
        }
      ],
      "source": [
        "cart_model.get_params()"
      ]
    },
    {
      "cell_type": "code",
      "execution_count": 22,
      "id": "9dbed40a",
      "metadata": {
        "execution": {
          "iopub.execute_input": "2021-10-19T18:46:46.445223Z",
          "iopub.status.busy": "2021-10-19T18:46:46.444496Z",
          "iopub.status.idle": "2021-10-19T18:46:46.446314Z",
          "shell.execute_reply": "2021-10-19T18:46:46.446906Z",
          "shell.execute_reply.started": "2021-10-19T18:44:37.554783Z"
        },
        "papermill": {
          "duration": 0.070735,
          "end_time": "2021-10-19T18:46:46.447095",
          "exception": false,
          "start_time": "2021-10-19T18:46:46.376360",
          "status": "completed"
        },
        "tags": [],
        "id": "9dbed40a"
      },
      "outputs": [],
      "source": [
        "# Гиперпараметр настроен для поиска:\n",
        "cart_params = {'max_depth': range(1, 11),\n",
        "               \"min_samples_split\": range(2, 20)}"
      ]
    },
    {
      "cell_type": "code",
      "execution_count": 23,
      "id": "3baef810",
      "metadata": {
        "execution": {
          "iopub.execute_input": "2021-10-19T18:46:46.577637Z",
          "iopub.status.busy": "2021-10-19T18:46:46.576918Z",
          "iopub.status.idle": "2021-10-19T18:46:52.555054Z",
          "shell.execute_reply": "2021-10-19T18:46:52.555909Z",
          "shell.execute_reply.started": "2021-10-19T18:44:37.565217Z"
        },
        "papermill": {
          "duration": 6.047033,
          "end_time": "2021-10-19T18:46:52.556180",
          "exception": false,
          "start_time": "2021-10-19T18:46:46.509147",
          "status": "completed"
        },
        "tags": [],
        "colab": {
          "base_uri": "https://localhost:8080/"
        },
        "id": "3baef810",
        "outputId": "4816dbb2-baa7-442c-f938-4c44340470e6"
      },
      "outputs": [
        {
          "output_type": "stream",
          "name": "stdout",
          "text": [
            "Fitting 5 folds for each of 180 candidates, totalling 900 fits\n"
          ]
        }
      ],
      "source": [
        "# GridSearchCV\n",
        "cart_best_grid = GridSearchCV(cart_model,\n",
        "                              cart_params,\n",
        "                              cv=5,\n",
        "                              n_jobs=-1,\n",
        "                              verbose=True).fit(X, y)"
      ]
    },
    {
      "cell_type": "code",
      "execution_count": 24,
      "id": "4d6e095d",
      "metadata": {
        "execution": {
          "iopub.execute_input": "2021-10-19T18:46:52.703345Z",
          "iopub.status.busy": "2021-10-19T18:46:52.702562Z",
          "iopub.status.idle": "2021-10-19T18:46:52.708497Z",
          "shell.execute_reply": "2021-10-19T18:46:52.709199Z",
          "shell.execute_reply.started": "2021-10-19T18:44:43.111817Z"
        },
        "papermill": {
          "duration": 0.081495,
          "end_time": "2021-10-19T18:46:52.709385",
          "exception": false,
          "start_time": "2021-10-19T18:46:52.627890",
          "status": "completed"
        },
        "tags": [],
        "colab": {
          "base_uri": "https://localhost:8080/"
        },
        "id": "4d6e095d",
        "outputId": "8065876e-5e70-439c-e475-4090cac5c4b5"
      },
      "outputs": [
        {
          "output_type": "execute_result",
          "data": {
            "text/plain": [
              "{'max_depth': 5, 'min_samples_split': 4}"
            ]
          },
          "metadata": {},
          "execution_count": 24
        }
      ],
      "source": [
        "# Лучшие значения гиперпараметров:\n",
        "cart_best_grid.best_params_"
      ]
    },
    {
      "cell_type": "code",
      "execution_count": 25,
      "id": "3691b4f7",
      "metadata": {
        "execution": {
          "iopub.execute_input": "2021-10-19T18:46:52.851276Z",
          "iopub.status.busy": "2021-10-19T18:46:52.850488Z",
          "iopub.status.idle": "2021-10-19T18:46:52.853323Z",
          "shell.execute_reply": "2021-10-19T18:46:52.854087Z",
          "shell.execute_reply.started": "2021-10-19T18:44:43.118746Z"
        },
        "papermill": {
          "duration": 0.078335,
          "end_time": "2021-10-19T18:46:52.854273",
          "exception": false,
          "start_time": "2021-10-19T18:46:52.775938",
          "status": "completed"
        },
        "tags": [],
        "colab": {
          "base_uri": "https://localhost:8080/"
        },
        "id": "3691b4f7",
        "outputId": "450a44e1-ce31-4dd6-a56d-4dd67b94cc44"
      },
      "outputs": [
        {
          "output_type": "execute_result",
          "data": {
            "text/plain": [
              "0.7500806383159324"
            ]
          },
          "metadata": {},
          "execution_count": 25
        }
      ],
      "source": [
        "# Best score:\n",
        "cart_best_grid.best_score_"
      ]
    },
    {
      "cell_type": "code",
      "execution_count": 26,
      "id": "084f84bc",
      "metadata": {
        "execution": {
          "iopub.execute_input": "2021-10-19T18:46:53.005501Z",
          "iopub.status.busy": "2021-10-19T18:46:52.998382Z",
          "iopub.status.idle": "2021-10-19T18:46:53.010248Z",
          "shell.execute_reply": "2021-10-19T18:46:53.011519Z",
          "shell.execute_reply.started": "2021-10-19T18:44:43.141377Z"
        },
        "papermill": {
          "duration": 0.088139,
          "end_time": "2021-10-19T18:46:53.011823",
          "exception": false,
          "start_time": "2021-10-19T18:46:52.923684",
          "status": "completed"
        },
        "tags": [],
        "colab": {
          "base_uri": "https://localhost:8080/"
        },
        "id": "084f84bc",
        "outputId": "19d128a5-da80-4200-fecc-16145fe26cac"
      },
      "outputs": [
        {
          "output_type": "stream",
          "name": "stdout",
          "text": [
            "     Pregnancies  Glucose  BloodPressure  SkinThickness  Insulin   BMI  \\\n",
            "195            5      158             84             41      210  39.4   \n",
            "\n",
            "     DiabetesPedigreeFunction  Age  \n",
            "195                     0.395   29  \n"
          ]
        }
      ],
      "source": [
        "random = X.sample(1, random_state=45)\n",
        "print(random)"
      ]
    },
    {
      "cell_type": "code",
      "execution_count": 27,
      "id": "bd7d78b7",
      "metadata": {
        "execution": {
          "iopub.execute_input": "2021-10-19T18:46:53.156678Z",
          "iopub.status.busy": "2021-10-19T18:46:53.155942Z",
          "iopub.status.idle": "2021-10-19T18:46:53.165224Z",
          "shell.execute_reply": "2021-10-19T18:46:53.165818Z",
          "shell.execute_reply.started": "2021-10-19T18:44:43.157425Z"
        },
        "papermill": {
          "duration": 0.080891,
          "end_time": "2021-10-19T18:46:53.166027",
          "exception": false,
          "start_time": "2021-10-19T18:46:53.085136",
          "status": "completed"
        },
        "tags": [],
        "colab": {
          "base_uri": "https://localhost:8080/"
        },
        "id": "bd7d78b7",
        "outputId": "b3093104-08f8-442b-9442-4f9fbb2e3605"
      },
      "outputs": [
        {
          "output_type": "execute_result",
          "data": {
            "text/plain": [
              "array([1])"
            ]
          },
          "metadata": {},
          "execution_count": 27
        }
      ],
      "source": [
        "cart_best_grid.predict(random)"
      ]
    },
    {
      "cell_type": "markdown",
      "id": "801a1567",
      "metadata": {
        "papermill": {
          "duration": 0.069517,
          "end_time": "2021-10-19T18:46:53.309068",
          "exception": false,
          "start_time": "2021-10-19T18:46:53.239551",
          "status": "completed"
        },
        "tags": [],
        "id": "801a1567"
      },
      "source": [
        "# Окончательная модель"
      ]
    },
    {
      "cell_type": "code",
      "execution_count": 28,
      "id": "a1f53a1f",
      "metadata": {
        "execution": {
          "iopub.execute_input": "2021-10-19T18:46:53.455244Z",
          "iopub.status.busy": "2021-10-19T18:46:53.454161Z",
          "iopub.status.idle": "2021-10-19T18:46:53.463523Z",
          "shell.execute_reply": "2021-10-19T18:46:53.464222Z",
          "shell.execute_reply.started": "2021-10-19T18:44:43.168192Z"
        },
        "papermill": {
          "duration": 0.086579,
          "end_time": "2021-10-19T18:46:53.464442",
          "exception": false,
          "start_time": "2021-10-19T18:46:53.377863",
          "status": "completed"
        },
        "tags": [],
        "id": "a1f53a1f"
      },
      "outputs": [],
      "source": [
        "cart_final = DecisionTreeClassifier(**cart_best_grid.best_params_,\n",
        "                                    random_state=17).fit(X, y)"
      ]
    },
    {
      "cell_type": "code",
      "execution_count": 29,
      "id": "88ee9d36",
      "metadata": {
        "execution": {
          "iopub.execute_input": "2021-10-19T18:46:53.604808Z",
          "iopub.status.busy": "2021-10-19T18:46:53.603692Z",
          "iopub.status.idle": "2021-10-19T18:46:53.610902Z",
          "shell.execute_reply": "2021-10-19T18:46:53.611575Z",
          "shell.execute_reply.started": "2021-10-19T18:44:43.182781Z"
        },
        "papermill": {
          "duration": 0.079748,
          "end_time": "2021-10-19T18:46:53.611834",
          "exception": false,
          "start_time": "2021-10-19T18:46:53.532086",
          "status": "completed"
        },
        "tags": [],
        "colab": {
          "base_uri": "https://localhost:8080/"
        },
        "id": "88ee9d36",
        "outputId": "4536d94a-c297-42ba-c8c1-db28174be810"
      },
      "outputs": [
        {
          "output_type": "execute_result",
          "data": {
            "text/plain": [
              "{'ccp_alpha': 0.0,\n",
              " 'class_weight': None,\n",
              " 'criterion': 'gini',\n",
              " 'max_depth': 5,\n",
              " 'max_features': None,\n",
              " 'max_leaf_nodes': None,\n",
              " 'min_impurity_decrease': 0.0,\n",
              " 'min_samples_leaf': 1,\n",
              " 'min_samples_split': 4,\n",
              " 'min_weight_fraction_leaf': 0.0,\n",
              " 'random_state': 17,\n",
              " 'splitter': 'best'}"
            ]
          },
          "metadata": {},
          "execution_count": 29
        }
      ],
      "source": [
        "cart_final.get_params()"
      ]
    },
    {
      "cell_type": "code",
      "execution_count": 30,
      "id": "4c7747f8",
      "metadata": {
        "execution": {
          "iopub.execute_input": "2021-10-19T18:46:53.754479Z",
          "iopub.status.busy": "2021-10-19T18:46:53.753459Z",
          "iopub.status.idle": "2021-10-19T18:46:53.758585Z",
          "shell.execute_reply": "2021-10-19T18:46:53.759273Z",
          "shell.execute_reply.started": "2021-10-19T18:44:43.191846Z"
        },
        "papermill": {
          "duration": 0.07858,
          "end_time": "2021-10-19T18:46:53.759460",
          "exception": false,
          "start_time": "2021-10-19T18:46:53.680880",
          "status": "completed"
        },
        "tags": [],
        "id": "4c7747f8"
      },
      "outputs": [],
      "source": [
        "# Другой способ назначить модели лучшие параметры:\n",
        "cart_final = cart_model.set_params(**cart_best_grid.best_params_).fit(X, y)"
      ]
    },
    {
      "cell_type": "code",
      "execution_count": 31,
      "id": "3199b695",
      "metadata": {
        "execution": {
          "iopub.execute_input": "2021-10-19T18:46:53.898514Z",
          "iopub.status.busy": "2021-10-19T18:46:53.897369Z",
          "iopub.status.idle": "2021-10-19T18:46:54.008344Z",
          "shell.execute_reply": "2021-10-19T18:46:54.008920Z",
          "shell.execute_reply.started": "2021-10-19T18:44:43.206637Z"
        },
        "papermill": {
          "duration": 0.184222,
          "end_time": "2021-10-19T18:46:54.009124",
          "exception": false,
          "start_time": "2021-10-19T18:46:53.824902",
          "status": "completed"
        },
        "tags": [],
        "id": "3199b695"
      },
      "outputs": [],
      "source": [
        "# CV error модели:\n",
        "cv_results = cross_validate(cart_final,\n",
        "                            X, y,\n",
        "                            cv=10,\n",
        "                            scoring=[\"accuracy\", \"f1\", \"roc_auc\"])"
      ]
    },
    {
      "cell_type": "code",
      "execution_count": 32,
      "id": "d4399b98",
      "metadata": {
        "execution": {
          "iopub.execute_input": "2021-10-19T18:46:54.145355Z",
          "iopub.status.busy": "2021-10-19T18:46:54.144272Z",
          "iopub.status.idle": "2021-10-19T18:46:54.150420Z",
          "shell.execute_reply": "2021-10-19T18:46:54.151037Z",
          "shell.execute_reply.started": "2021-10-19T18:44:43.318255Z"
        },
        "papermill": {
          "duration": 0.076877,
          "end_time": "2021-10-19T18:46:54.151218",
          "exception": false,
          "start_time": "2021-10-19T18:46:54.074341",
          "status": "completed"
        },
        "tags": [],
        "colab": {
          "base_uri": "https://localhost:8080/"
        },
        "id": "d4399b98",
        "outputId": "acac979a-c81f-4f7a-c4bd-39b228dc996d"
      },
      "outputs": [
        {
          "output_type": "execute_result",
          "data": {
            "text/plain": [
              "0.7344326725905673"
            ]
          },
          "metadata": {},
          "execution_count": 32
        }
      ],
      "source": [
        "cv_results['test_accuracy'].mean()\n"
      ]
    },
    {
      "cell_type": "code",
      "execution_count": 33,
      "id": "67a1fba8",
      "metadata": {
        "execution": {
          "iopub.execute_input": "2021-10-19T18:46:54.288719Z",
          "iopub.status.busy": "2021-10-19T18:46:54.287615Z",
          "iopub.status.idle": "2021-10-19T18:46:54.294029Z",
          "shell.execute_reply": "2021-10-19T18:46:54.294708Z",
          "shell.execute_reply.started": "2021-10-19T18:44:43.325342Z"
        },
        "papermill": {
          "duration": 0.077751,
          "end_time": "2021-10-19T18:46:54.294889",
          "exception": false,
          "start_time": "2021-10-19T18:46:54.217138",
          "status": "completed"
        },
        "tags": [],
        "colab": {
          "base_uri": "https://localhost:8080/"
        },
        "id": "67a1fba8",
        "outputId": "b0d3a8f7-64d2-4a01-b853-446b000851fd"
      },
      "outputs": [
        {
          "output_type": "execute_result",
          "data": {
            "text/plain": [
              "0.5701221536747852"
            ]
          },
          "metadata": {},
          "execution_count": 33
        }
      ],
      "source": [
        "cv_results['test_f1'].mean()\n"
      ]
    },
    {
      "cell_type": "code",
      "execution_count": 34,
      "id": "fd3086a9",
      "metadata": {
        "execution": {
          "iopub.execute_input": "2021-10-19T18:46:54.432474Z",
          "iopub.status.busy": "2021-10-19T18:46:54.431369Z",
          "iopub.status.idle": "2021-10-19T18:46:54.437252Z",
          "shell.execute_reply": "2021-10-19T18:46:54.437947Z",
          "shell.execute_reply.started": "2021-10-19T18:44:43.344786Z"
        },
        "papermill": {
          "duration": 0.07675,
          "end_time": "2021-10-19T18:46:54.438147",
          "exception": false,
          "start_time": "2021-10-19T18:46:54.361397",
          "status": "completed"
        },
        "tags": [],
        "colab": {
          "base_uri": "https://localhost:8080/"
        },
        "id": "fd3086a9",
        "outputId": "ed6a670c-567a-486f-a867-2f8f54bdb433"
      },
      "outputs": [
        {
          "output_type": "execute_result",
          "data": {
            "text/plain": [
              "0.7710925925925926"
            ]
          },
          "metadata": {},
          "execution_count": 34
        }
      ],
      "source": [
        "cv_results['test_roc_auc'].mean()\n"
      ]
    },
    {
      "cell_type": "markdown",
      "id": "52c8026b",
      "metadata": {
        "papermill": {
          "duration": 0.067657,
          "end_time": "2021-10-19T18:46:54.574167",
          "exception": false,
          "start_time": "2021-10-19T18:46:54.506510",
          "status": "completed"
        },
        "tags": [],
        "id": "52c8026b"
      },
      "source": [
        "# Важность признаков"
      ]
    },
    {
      "cell_type": "code",
      "execution_count": 35,
      "id": "303a1f88",
      "metadata": {
        "execution": {
          "iopub.execute_input": "2021-10-19T18:46:54.718546Z",
          "iopub.status.busy": "2021-10-19T18:46:54.717415Z",
          "iopub.status.idle": "2021-10-19T18:46:54.720835Z",
          "shell.execute_reply": "2021-10-19T18:46:54.720171Z",
          "shell.execute_reply.started": "2021-10-19T18:44:43.355178Z"
        },
        "papermill": {
          "duration": 0.078917,
          "end_time": "2021-10-19T18:46:54.721028",
          "exception": false,
          "start_time": "2021-10-19T18:46:54.642111",
          "status": "completed"
        },
        "tags": [],
        "id": "303a1f88"
      },
      "outputs": [],
      "source": [
        "def plot_importance(model, features, num=len(X), save=False):\n",
        "    feature_imp = pd.DataFrame({'Value': model.feature_importances_, 'Feature': features.columns})\n",
        "    plt.figure(figsize=(10, 10))\n",
        "    sns.set(font_scale=1)\n",
        "    sns.barplot(x=\"Value\", y=\"Feature\", data=feature_imp.sort_values(by=\"Value\",\n",
        "                                                                     ascending=False)[0:num])\n",
        "    plt.title('Features')\n",
        "    plt.tight_layout()\n",
        "    plt.show()\n",
        "    if save:\n",
        "        plt.savefig('importances.png')"
      ]
    },
    {
      "cell_type": "code",
      "execution_count": 36,
      "id": "b9999f29",
      "metadata": {
        "execution": {
          "iopub.execute_input": "2021-10-19T18:46:54.858729Z",
          "iopub.status.busy": "2021-10-19T18:46:54.858017Z",
          "iopub.status.idle": "2021-10-19T18:46:55.349850Z",
          "shell.execute_reply": "2021-10-19T18:46:55.350402Z",
          "shell.execute_reply.started": "2021-10-19T18:44:43.367068Z"
        },
        "papermill": {
          "duration": 0.562233,
          "end_time": "2021-10-19T18:46:55.350601",
          "exception": false,
          "start_time": "2021-10-19T18:46:54.788368",
          "status": "completed"
        },
        "tags": [],
        "colab": {
          "base_uri": "https://localhost:8080/",
          "height": 1000
        },
        "id": "b9999f29",
        "outputId": "49b746dc-2175-4a70-e53f-4f539cea6216"
      },
      "outputs": [
        {
          "output_type": "display_data",
          "data": {
            "text/plain": [
              "<Figure size 1000x1000 with 1 Axes>"
            ],
            "image/png": "[encoded data removed]"
          },
          "metadata": {}
        }
      ],
      "source": [
        "plot_importance(cart_final, X, 15)"
      ]
    },
    {
      "cell_type": "markdown",
      "id": "5a358a60",
      "metadata": {
        "papermill": {
          "duration": 0.068637,
          "end_time": "2021-10-19T18:46:55.487087",
          "exception": false,
          "start_time": "2021-10-19T18:46:55.418450",
          "status": "completed"
        },
        "tags": [],
        "id": "5a358a60"
      },
      "source": [
        "# Анализ сложности модели с помощью кривых обучения"
      ]
    },
    {
      "cell_type": "code",
      "execution_count": 37,
      "id": "6a569953",
      "metadata": {
        "execution": {
          "iopub.execute_input": "2021-10-19T18:46:55.629513Z",
          "iopub.status.busy": "2021-10-19T18:46:55.628809Z",
          "iopub.status.idle": "2021-10-19T18:46:56.779113Z",
          "shell.execute_reply": "2021-10-19T18:46:56.779710Z",
          "shell.execute_reply.started": "2021-10-19T18:44:43.793028Z"
        },
        "papermill": {
          "duration": 1.224265,
          "end_time": "2021-10-19T18:46:56.779910",
          "exception": false,
          "start_time": "2021-10-19T18:46:55.555645",
          "status": "completed"
        },
        "tags": [],
        "id": "6a569953"
      },
      "outputs": [],
      "source": [
        "train_score, test_score = validation_curve(\n",
        "    cart_final, X=X, y=y,\n",
        "    param_name='max_depth',\n",
        "    param_range=range(1, 11),\n",
        "    scoring=\"roc_auc\",\n",
        "    cv=10)"
      ]
    },
    {
      "cell_type": "code",
      "execution_count": 38,
      "id": "d4d92515",
      "metadata": {
        "execution": {
          "iopub.execute_input": "2021-10-19T18:46:56.925472Z",
          "iopub.status.busy": "2021-10-19T18:46:56.924799Z",
          "iopub.status.idle": "2021-10-19T18:46:56.926805Z",
          "shell.execute_reply": "2021-10-19T18:46:56.927411Z",
          "shell.execute_reply.started": "2021-10-19T18:44:44.822901Z"
        },
        "papermill": {
          "duration": 0.078027,
          "end_time": "2021-10-19T18:46:56.927593",
          "exception": false,
          "start_time": "2021-10-19T18:46:56.849566",
          "status": "completed"
        },
        "tags": [],
        "id": "d4d92515"
      },
      "outputs": [],
      "source": [
        "mean_train_score = np.mean(train_score, axis=1)"
      ]
    },
    {
      "cell_type": "code",
      "execution_count": 39,
      "id": "f5a66128",
      "metadata": {
        "execution": {
          "iopub.execute_input": "2021-10-19T18:46:57.069810Z",
          "iopub.status.busy": "2021-10-19T18:46:57.069041Z",
          "iopub.status.idle": "2021-10-19T18:46:57.073243Z",
          "shell.execute_reply": "2021-10-19T18:46:57.073851Z",
          "shell.execute_reply.started": "2021-10-19T18:44:44.829552Z"
        },
        "papermill": {
          "duration": 0.078013,
          "end_time": "2021-10-19T18:46:57.074062",
          "exception": false,
          "start_time": "2021-10-19T18:46:56.996049",
          "status": "completed"
        },
        "tags": [],
        "id": "f5a66128"
      },
      "outputs": [],
      "source": [
        "mean_test_score = np.mean(test_score, axis=1)"
      ]
    },
    {
      "cell_type": "code",
      "source": [],
      "metadata": {
        "id": "cBRekAucJmnG"
      },
      "id": "cBRekAucJmnG",
      "execution_count": null,
      "outputs": []
    },
    {
      "cell_type": "code",
      "execution_count": 40,
      "id": "873780a5",
      "metadata": {
        "execution": {
          "iopub.execute_input": "2021-10-19T18:46:57.213775Z",
          "iopub.status.busy": "2021-10-19T18:46:57.213018Z",
          "iopub.status.idle": "2021-10-19T18:46:57.636531Z",
          "shell.execute_reply": "2021-10-19T18:46:57.637227Z",
          "shell.execute_reply.started": "2021-10-19T18:44:44.842496Z"
        },
        "papermill": {
          "duration": 0.495042,
          "end_time": "2021-10-19T18:46:57.637432",
          "exception": false,
          "start_time": "2021-10-19T18:46:57.142390",
          "status": "completed"
        },
        "tags": [],
        "colab": {
          "base_uri": "https://localhost:8080/",
          "height": 480
        },
        "id": "873780a5",
        "outputId": "98451c75-948d-48bc-e4f9-31fa534a0aed"
      },
      "outputs": [
        {
          "output_type": "display_data",
          "data": {
            "text/plain": [
              "<Figure size 640x480 with 1 Axes>"
            ],
            "image/png": "[encoded data removed]"
          },
          "metadata": {}
        }
      ],
      "source": [
        "plt.plot(range(1, 11), mean_train_score,\n",
        "         label=\"Training Score\", color='b')\n",
        "plt.plot(range(1, 11), mean_test_score,\n",
        "         label=\"Validation Score\", color='g')\n",
        "\n",
        "plt.title(\"Validation Curve for CART\")\n",
        "plt.xlabel(\"Number of max_depth\")\n",
        "plt.ylabel(\"AUC\")\n",
        "plt.tight_layout()\n",
        "plt.legend(loc='best')\n",
        "plt.show()"
      ]
    },
    {
      "cell_type": "markdown",
      "id": "b85ddd1c",
      "metadata": {
        "papermill": {
          "duration": 0.071302,
          "end_time": "2021-10-19T18:46:57.780056",
          "exception": false,
          "start_time": "2021-10-19T18:46:57.708754",
          "status": "completed"
        },
        "tags": [],
        "id": "b85ddd1c"
      },
      "source": [
        "# Извлечение решающих правил (Decision Rules)"
      ]
    },
    {
      "cell_type": "code",
      "execution_count": 41,
      "id": "46920b01",
      "metadata": {
        "execution": {
          "iopub.execute_input": "2021-10-19T18:46:57.925306Z",
          "iopub.status.busy": "2021-10-19T18:46:57.924554Z",
          "iopub.status.idle": "2021-10-19T18:46:57.931299Z",
          "shell.execute_reply": "2021-10-19T18:46:57.932046Z",
          "shell.execute_reply.started": "2021-10-19T18:44:58.832287Z"
        },
        "papermill": {
          "duration": 0.082375,
          "end_time": "2021-10-19T18:46:57.932281",
          "exception": false,
          "start_time": "2021-10-19T18:46:57.849906",
          "status": "completed"
        },
        "tags": [],
        "colab": {
          "base_uri": "https://localhost:8080/"
        },
        "id": "46920b01",
        "outputId": "5a571014-be58-407e-83b7-d4e4aaccf1f2"
      },
      "outputs": [
        {
          "output_type": "stream",
          "name": "stdout",
          "text": [
            "|--- Glucose <= 127.50\n",
            "|   |--- Age <= 28.50\n",
            "|   |   |--- BMI <= 45.40\n",
            "|   |   |   |--- BMI <= 30.95\n",
            "|   |   |   |   |--- Pregnancies <= 7.50\n",
            "|   |   |   |   |   |--- class: 0\n",
            "|   |   |   |   |--- Pregnancies >  7.50\n",
            "|   |   |   |   |   |--- class: 1\n",
            "|   |   |   |--- BMI >  30.95\n",
            "|   |   |   |   |--- DiabetesPedigreeFunction <= 0.50\n",
            "|   |   |   |   |   |--- class: 0\n",
            "|   |   |   |   |--- DiabetesPedigreeFunction >  0.50\n",
            "|   |   |   |   |   |--- class: 0\n",
            "|   |   |--- BMI >  45.40\n",
            "|   |   |   |--- BloodPressure <= 99.00\n",
            "|   |   |   |   |--- class: 1\n",
            "|   |   |   |--- BloodPressure >  99.00\n",
            "|   |   |   |   |--- class: 0\n",
            "|   |--- Age >  28.50\n",
            "|   |   |--- BMI <= 26.35\n",
            "|   |   |   |--- BMI <= 9.65\n",
            "|   |   |   |   |--- class: 1\n",
            "|   |   |   |--- BMI >  9.65\n",
            "|   |   |   |   |--- class: 0\n",
            "|   |   |--- BMI >  26.35\n",
            "|   |   |   |--- Glucose <= 99.50\n",
            "|   |   |   |   |--- Glucose <= 28.50\n",
            "|   |   |   |   |   |--- class: 1\n",
            "|   |   |   |   |--- Glucose >  28.50\n",
            "|   |   |   |   |   |--- class: 0\n",
            "|   |   |   |--- Glucose >  99.50\n",
            "|   |   |   |   |--- DiabetesPedigreeFunction <= 0.56\n",
            "|   |   |   |   |   |--- class: 0\n",
            "|   |   |   |   |--- DiabetesPedigreeFunction >  0.56\n",
            "|   |   |   |   |   |--- class: 1\n",
            "|--- Glucose >  127.50\n",
            "|   |--- BMI <= 29.95\n",
            "|   |   |--- Glucose <= 145.50\n",
            "|   |   |   |--- Insulin <= 132.50\n",
            "|   |   |   |   |--- BMI <= 28.15\n",
            "|   |   |   |   |   |--- class: 0\n",
            "|   |   |   |   |--- BMI >  28.15\n",
            "|   |   |   |   |   |--- class: 1\n",
            "|   |   |   |--- Insulin >  132.50\n",
            "|   |   |   |   |--- class: 0\n",
            "|   |   |--- Glucose >  145.50\n",
            "|   |   |   |--- Age <= 25.50\n",
            "|   |   |   |   |--- class: 0\n",
            "|   |   |   |--- Age >  25.50\n",
            "|   |   |   |   |--- Age <= 61.00\n",
            "|   |   |   |   |   |--- class: 1\n",
            "|   |   |   |   |--- Age >  61.00\n",
            "|   |   |   |   |   |--- class: 0\n",
            "|   |--- BMI >  29.95\n",
            "|   |   |--- Glucose <= 157.50\n",
            "|   |   |   |--- Age <= 30.50\n",
            "|   |   |   |   |--- BloodPressure <= 61.00\n",
            "|   |   |   |   |   |--- class: 1\n",
            "|   |   |   |   |--- BloodPressure >  61.00\n",
            "|   |   |   |   |   |--- class: 0\n",
            "|   |   |   |--- Age >  30.50\n",
            "|   |   |   |   |--- DiabetesPedigreeFunction <= 0.43\n",
            "|   |   |   |   |   |--- class: 1\n",
            "|   |   |   |   |--- DiabetesPedigreeFunction >  0.43\n",
            "|   |   |   |   |   |--- class: 1\n",
            "|   |   |--- Glucose >  157.50\n",
            "|   |   |   |--- Insulin <= 629.50\n",
            "|   |   |   |   |--- DiabetesPedigreeFunction <= 0.30\n",
            "|   |   |   |   |   |--- class: 1\n",
            "|   |   |   |   |--- DiabetesPedigreeFunction >  0.30\n",
            "|   |   |   |   |   |--- class: 1\n",
            "|   |   |   |--- Insulin >  629.50\n",
            "|   |   |   |   |--- class: 0\n",
            "\n"
          ]
        }
      ],
      "source": [
        "tree_rules = export_text(cart_model, feature_names=list(X.columns))\n",
        "print(tree_rules)"
      ]
    }
  ],
  "metadata": {
    "kernelspec": {
      "display_name": "Python 3",
      "language": "python",
      "name": "python3"
    },
    "language_info": {
      "codemirror_mode": {
        "name": "ipython",
        "version": 3
      },
      "file_extension": ".py",
      "mimetype": "text/x-python",
      "name": "python",
      "nbconvert_exporter": "python",
      "pygments_lexer": "ipython3",
      "version": "3.7.10"
    },
    "papermill": {
      "default_parameters": {},
      "duration": 30.017371,
      "end_time": "2021-10-19T18:46:59.242324",
      "environment_variables": {},
      "exception": null,
      "input_path": "__notebook__.ipynb",
      "output_path": "__notebook__.ipynb",
      "parameters": {},
      "start_time": "2021-10-19T18:46:29.224953",
      "version": "2.3.3"
    },
    "colab": {
      "provenance": []
    }
  },
  "nbformat": 4,
  "nbformat_minor": 5
}
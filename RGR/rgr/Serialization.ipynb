{
 "cells": [
  {
   "cell_type": "code",
   "execution_count": null,
   "id": "d27fd04e-089b-4b58-bde3-07200e1d43dc",
   "metadata": {},
   "outputs": [],
   "source": [
    "!!streamlit hello"
   ]
  },
  {
   "cell_type": "code",
   "execution_count": 1,
   "id": "b29a94bf-6606-4a82-9f5e-9dea2db0a0aa",
   "metadata": {},
   "outputs": [
    {
     "name": "stderr",
     "output_type": "stream",
     "text": [
      "2023-12-17 19:54:35.137 \n",
      "  \u001b[33m\u001b[1mWarning:\u001b[0m to view this Streamlit app on a browser, run it with the following\n",
      "  command:\n",
      "\n",
      "    streamlit run C:\\Users\\1\\Jupyter Notebook\\venv\\lib\\site-packages\\ipykernel_launcher.py [ARGUMENTS]\n"
     ]
    }
   ],
   "source": [
    "import streamlit as st\n",
    "\n",
    "st.title(\"Разработка Web-приложения (дашборда) для инференса (вывода) моделей ML и анализа данных\")\n",
    "\n",
    "\n",
    "st.header(\"Автор\")\n",
    "st.write(\"ФИО: Раевских Максим Игоревич\")\n",
    "st.write(\"Группа: ФИТ-222\")\n",
    "st.write(\"2023 год\")"
   ]
  },
  {
   "cell_type": "code",
   "execution_count": 6,
   "id": "5d1a8b00-4081-4adc-86d2-3012aa3c96b4",
   "metadata": {},
   "outputs": [
    {
     "data": {
      "text/plain": [
       "['Usage: streamlit run [OPTIONS] TARGET [ARGS]...',\n",
       " \"Try 'streamlit run --help' for help.\",\n",
       " '',\n",
       " 'Error: Streamlit requires raw Python (.py) files, but the provided file has no extension.',\n",
       " 'For more information, please see https://docs.streamlit.io']"
      ]
     },
     "execution_count": 6,
     "metadata": {},
     "output_type": "execute_result"
    }
   ],
   "source": [
    "!!streamlit run C:\\Users\\1\\Jupyter Notebook\\venv\\lib\\site-packages\\ipykernel_launcher.py "
   ]
  },
  {
   "cell_type": "code",
   "execution_count": null,
   "id": "9f6a8b09-b8e5-47c9-bd87-188bebc04167",
   "metadata": {},
   "outputs": [],
   "source": []
  }
 ],
 "metadata": {
  "kernelspec": {
   "display_name": "Python 3 (ipykernel)",
   "language": "python",
   "name": "python3"
  },
  "language_info": {
   "codemirror_mode": {
    "name": "ipython",
    "version": 3
   },
   "file_extension": ".py",
   "mimetype": "text/x-python",
   "name": "python",
   "nbconvert_exporter": "python",
   "pygments_lexer": "ipython3",
   "version": "3.9.13"
  }
 },
 "nbformat": 4,
 "nbformat_minor": 5
}
